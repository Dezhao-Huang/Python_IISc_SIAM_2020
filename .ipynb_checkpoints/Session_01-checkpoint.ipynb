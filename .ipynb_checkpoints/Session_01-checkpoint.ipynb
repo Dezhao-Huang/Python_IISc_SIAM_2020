{
 "cells": [
  {
   "cell_type": "code",
   "execution_count": 47,
   "metadata": {
    "ExecuteTime": {
     "end_time": "2020-02-08T00:15:45.899246Z",
     "start_time": "2020-02-08T00:15:45.892476Z"
    },
    "slideshow": {
     "slide_type": "skip"
    }
   },
   "outputs": [
    {
     "data": {
      "text/plain": [
       "{'width': 1200, 'height': 800, 'scroll': True}"
      ]
     },
     "execution_count": 47,
     "metadata": {},
     "output_type": "execute_result"
    }
   ],
   "source": [
    "from IPython.display import HTML\n",
    "from IPython.display import Image\n",
    "# To get the scrolling feature in each slide\n",
    "from notebook.services.config import ConfigManager\n",
    "cm = ConfigManager()\n",
    "cm.update('livereveal', {\n",
    "        'width': 1200,\n",
    "        'height': 800,\n",
    "        'scroll': True,\n",
    "})"
   ]
  },
  {
   "cell_type": "markdown",
   "metadata": {
    "slideshow": {
     "slide_type": "slide"
    }
   },
   "source": [
    "# Python Programming Workshop\n",
    "\n",
    "## IISc-SIAM Student Chapter\n",
    "\n",
    "**8th and 9th October 2020**\n",
    "\n",
    "<img src=\"images/IISc_logo.jpg\" alt=\"IISc Logo\" height=\"200\" width=\"200\">\n",
    "\n",
    "Arun Prasaad Gunasekaran\n",
    "\n",
    "Centre for Atmospheric and Oceanic Sciences, Indian Institute of Science.\n",
    "\n",
    "Website: https://arunprasaad2711.github.io"
   ]
  },
  {
   "cell_type": "markdown",
   "metadata": {
    "slideshow": {
     "slide_type": "slide"
    }
   },
   "source": [
    "## Benefits of these Sessions\n"
   ]
  },
  {
   "cell_type": "markdown",
   "metadata": {
    "slideshow": {
     "slide_type": "fragment"
    }
   },
   "source": [
    "* **Short term benefits:**\n",
    "    * Useful for Assignments (First Years)\n",
    "    * Learning programming in a simpler way - for beginners\n",
    "    * Serves as an icebreaker to smoothen the class-to-research/application transition\n",
    "    * Gaining comfort and confidence\n",
    "    * Have a tool to solve simple and complex problems"
   ]
  },
  {
   "cell_type": "markdown",
   "metadata": {
    "slideshow": {
     "slide_type": "fragment"
    }
   },
   "source": [
    "  \n",
    "* **Long term benefits:**\n",
    "    * Skills are directly applicable in research\n",
    "    * Helpful to cut-down pre-research timing (Finding fixes, looking for solutions etc.,)\n",
    "    * You have a solid foundation to proceed further\n",
    "    * You can almost all the fundamental tools\n",
    "    \n",
    "All the examples here are chosen carefully so that you all get a __*strong*__ exposure to some important libraries and tools."
   ]
  },
  {
   "cell_type": "markdown",
   "metadata": {
    "slideshow": {
     "slide_type": "slide"
    }
   },
   "source": [
    "## Topics covered in these sessions - Today\n",
    "\n",
    "### Session 1:\n",
    "Introduction to Scientific Computation using python: Storing data using NumPy vector arrays and MAT files, Simple Linear Algebra problems, Finding Eigenvalues, and Eigenvectors, Integration of ODEs and PDEs using functions, FFT and IFFT.\n",
    "\n",
    "### Session 2:\n",
    "Introduction to Advanced Plotting: Introduction to plotting using Plotly. Demonstrations of plots using libraries such as Seaborn, and Bokeh."
   ]
  },
  {
   "cell_type": "markdown",
   "metadata": {
    "slideshow": {
     "slide_type": "slide"
    }
   },
   "source": [
    "## Topics covered in these sessions - Today\n",
    "\n",
    "### Session 3:\n",
    "Introduction to Sphinx Documentation. Hands-on demo to make your own simple neural network with a simplified explanation of the underlying theory.\n",
    "\n",
    "### Session 4:\n",
    "Introduction to Numba and Cython and how to write faster python codes with examples. Demonstration of MPI4PY and the basic idea behind MPI."
   ]
  },
  {
   "cell_type": "markdown",
   "metadata": {
    "slideshow": {
     "slide_type": "slide"
    }
   },
   "source": [
    "# Saving Data to Data files\n",
    "\n",
    "Simple ones:\n",
    "* Text data\n",
    "    * Tedious to format from scratch, especially if poorly formatted\n",
    "    * Messier for Arrays\n",
    "\n",
    "Easy to handle simple Formatted Data files options:\n",
    "* MATLAB formatted data file - \\*.mat\n",
    "* NumPy Vector files\n",
    "    * Single Array - \\*.npy\n",
    "    * Multiple Arrays - \\*.npz\n",
    "\n"
   ]
  },
  {
   "cell_type": "markdown",
   "metadata": {
    "slideshow": {
     "slide_type": "skip"
    }
   },
   "source": [
    "```python\n",
    "# Demonstration of Data Files using *.mat files and *.npy, *.npz files\n",
    "\n",
    "import numpy as np\n",
    "import scipy.io as sio\n",
    "\n",
    "# -----------------------------------\n",
    "# Part 0 - Generation of random data\n",
    "# -----------------------------------\n",
    "\n",
    "x = [[1, 2, 3], [4.0, 5, 6], [7, 8, 9]]\n",
    "np_x = np.array(x) + 4.0\n",
    "np_y = 5.0*np_x\n",
    "\n",
    "# -----------------------------------\n",
    "# Part 1 - Usage of *.mat files\n",
    "# -----------------------------------\n",
    "\n",
    "# Creation of a dictionary for mat file\n",
    "\n",
    "data_mat = {}\n",
    "\n",
    "# File name for the mat file\n",
    "mat_fname = 'data_arrays.mat'\n",
    "\n",
    "# Adding data to the dictionary\n",
    "\n",
    "data_mat['x'] = x\n",
    "data_mat['np_x'] = np_x\n",
    "data_mat['np_y'] = np_y\n",
    "\n",
    "# for key in data_mat:\n",
    "#    print(key, data_mat[key], type(data_mat[key]))\n",
    "\n",
    "# Saving the dictionary\n",
    "\n",
    "sio.savemat(mat_fname, data_mat)\n",
    "\n",
    "# Open a the saved mat file using a new dictionary\n",
    "new_data_mat = sio.loadmat(mat_fname)\n",
    "\n",
    "# for key in new_data_mat:\n",
    "#    print(key, new_data_mat[key], type(new_data_mat[key]))\n",
    "\n",
    "# -----------------------------------\n",
    "# Part 2 - Usage of *.npy files\n",
    "# -----------------------------------\n",
    "\n",
    "# Storing the data in *.npy files\n",
    "np.save('array_x', x)\n",
    "np.save('np_array_x', np_x)\n",
    "np.save('np_array_y', np_y)\n",
    "\n",
    "# Opening the data in *.npy files\n",
    "new_x = np.load('array_x.npy')\n",
    "new_npx = np.load('np_array_x.npy')\n",
    "new_npy = np.load('np_array_y.npy')\n",
    "\n",
    "# print(new_x)\n",
    "# print(new_npx)\n",
    "# print(new_npy)\n",
    "\n",
    "# -----------------------------------\n",
    "# Part 3 - Usage of *.npz files\n",
    "# -----------------------------------\n",
    "\n",
    "# Storing the data in *.npy files\n",
    "np.savez('npz_demo', x=x, np_x=np_x, np_y=np_y)\n",
    "\n",
    "# Opening the data in *.npy files\n",
    "new_npz_dict = np.load('npz_demo.npz')\n",
    "\n",
    "for key in new_npz_dict:\n",
    "    print(key, new_npz_dict[key], type(new_npz_dict[key]))\n",
    "```"
   ]
  },
  {
   "cell_type": "markdown",
   "metadata": {
    "slideshow": {
     "slide_type": "slide"
    }
   },
   "source": [
    "## Let's Create some random data\n",
    "\n",
    "```python\n",
    "import numpy as np\n",
    "import scipy.io as sio\n",
    "\n",
    "# -----------------------------------\n",
    "# Part 0 - Generation of random data\n",
    "# -----------------------------------\n",
    "\n",
    "x = [[1, 2, 3], [4.0, 5, 6], [7, 8, 9]]\n",
    "np_x = np.array(x) + 4.0\n",
    "np_y = 5.0*np_x\n",
    "```"
   ]
  },
  {
   "cell_type": "code",
   "execution_count": 48,
   "metadata": {
    "ExecuteTime": {
     "end_time": "2020-02-08T00:15:46.280591Z",
     "start_time": "2020-02-08T00:15:45.907323Z"
    },
    "slideshow": {
     "slide_type": "slide"
    }
   },
   "outputs": [],
   "source": [
    "import numpy as np\n",
    "import scipy.io as sio\n",
    "\n",
    "# -----------------------------------\n",
    "# Part 0 - Generation of random data\n",
    "# -----------------------------------\n",
    "\n",
    "x = [[1, 2, 3], [4.0, 5, 6], [7, 8, 9]]\n",
    "np_x = np.array(x) + 4.0\n",
    "np_y = 5.0*np_x"
   ]
  },
  {
   "cell_type": "markdown",
   "metadata": {
    "slideshow": {
     "slide_type": "slide"
    }
   },
   "source": [
    "### Saving using ``*.mat`` files\n",
    "\n",
    "```python\n",
    "# Creation of a dictionary for mat file\n",
    "\n",
    "data_mat = {}\n",
    "\n",
    "# File name for the mat file\n",
    "mat_fname = 'data_arrays.mat'\n",
    "\n",
    "# Adding data to the dictionary\n",
    "\n",
    "data_mat['x'] = x\n",
    "data_mat['np_x'] = np_x\n",
    "data_mat['np_y'] = np_y\n",
    "\n",
    "# for key in data_mat:\n",
    "#    print(key, data_mat[key], type(data_mat[key]))\n",
    "\n",
    "# Saving the dictionary\n",
    "\n",
    "sio.savemat(mat_fname, data_mat)\n",
    "```"
   ]
  },
  {
   "cell_type": "code",
   "execution_count": 49,
   "metadata": {
    "ExecuteTime": {
     "end_time": "2020-02-08T00:15:46.385822Z",
     "start_time": "2020-02-08T00:15:46.285004Z"
    },
    "slideshow": {
     "slide_type": "slide"
    }
   },
   "outputs": [
    {
     "name": "stdout",
     "output_type": "stream",
     "text": [
      "x [[1, 2, 3], [4.0, 5, 6], [7, 8, 9]] <class 'list'>\n",
      "np_x [[ 5.  6.  7.]\n",
      " [ 8.  9. 10.]\n",
      " [11. 12. 13.]] <class 'numpy.ndarray'>\n",
      "np_y [[25. 30. 35.]\n",
      " [40. 45. 50.]\n",
      " [55. 60. 65.]] <class 'numpy.ndarray'>\n"
     ]
    }
   ],
   "source": [
    "# Creation of a dictionary for mat file\n",
    "\n",
    "data_mat = {}\n",
    "\n",
    "# File name for the mat file\n",
    "mat_fname = 'data_arrays.mat'\n",
    "\n",
    "# Adding data to the dictionary\n",
    "\n",
    "data_mat['x'] = x\n",
    "data_mat['np_x'] = np_x\n",
    "data_mat['np_y'] = np_y\n",
    "\n",
    "for key in data_mat:\n",
    "    print(key, data_mat[key], type(data_mat[key]))\n",
    "\n",
    "# Saving the dictionary\n",
    "\n",
    "sio.savemat(mat_fname, data_mat)"
   ]
  },
  {
   "cell_type": "code",
   "execution_count": 50,
   "metadata": {
    "ExecuteTime": {
     "end_time": "2020-02-08T00:15:46.582435Z",
     "start_time": "2020-02-08T00:15:46.390142Z"
    },
    "slideshow": {
     "slide_type": "slide"
    }
   },
   "outputs": [
    {
     "name": "stdout",
     "output_type": "stream",
     "text": [
      "__header__ b'MATLAB 5.0 MAT-file Platform: posix, Created on: Sat Feb  8 05:45:46 2020' <class 'bytes'>\n",
      "__version__ 1.0 <class 'str'>\n",
      "__globals__ [] <class 'list'>\n",
      "x [[1. 2. 3.]\n",
      " [4. 5. 6.]\n",
      " [7. 8. 9.]] <class 'numpy.ndarray'>\n",
      "np_x [[ 5.  6.  7.]\n",
      " [ 8.  9. 10.]\n",
      " [11. 12. 13.]] <class 'numpy.ndarray'>\n",
      "np_y [[25. 30. 35.]\n",
      " [40. 45. 50.]\n",
      " [55. 60. 65.]] <class 'numpy.ndarray'>\n"
     ]
    }
   ],
   "source": [
    "# Open a the saved mat file using a new dictionary\n",
    "new_data_mat = sio.loadmat(mat_fname)\n",
    "\n",
    "for key in new_data_mat:\n",
    "    print(key, new_data_mat[key], type(new_data_mat[key]))"
   ]
  },
  {
   "cell_type": "markdown",
   "metadata": {
    "slideshow": {
     "slide_type": "slide"
    }
   },
   "source": [
    "### Data saving using ``*.npy`` files\n",
    "\n",
    "```python\n",
    "# Storing the data in *.npy files\n",
    "np.save('array_x', x)\n",
    "np.save('np_array_x', np_x)\n",
    "np.save('np_array_y', np_y)\n",
    "\n",
    "# Opening the data in *.npy files\n",
    "new_x = np.load('array_x.npy')\n",
    "new_npx = np.load('np_array_x.npy')\n",
    "new_npy = np.load('np_array_y.npy')\n",
    "```"
   ]
  },
  {
   "cell_type": "code",
   "execution_count": 51,
   "metadata": {
    "ExecuteTime": {
     "end_time": "2020-02-08T00:15:46.709282Z",
     "start_time": "2020-02-08T00:15:46.584635Z"
    },
    "slideshow": {
     "slide_type": "slide"
    }
   },
   "outputs": [],
   "source": [
    "# Storing the data in *.npy files\n",
    "np.save('array_x', x)\n",
    "np.save('np_array_x', np_x)\n",
    "np.save('np_array_y', np_y)\n",
    "\n",
    "# Opening the data in *.npy files\n",
    "new_x = np.load('array_x.npy')\n",
    "new_npx = np.load('np_array_x.npy')\n",
    "new_npy = np.load('np_array_y.npy')"
   ]
  },
  {
   "cell_type": "markdown",
   "metadata": {
    "slideshow": {
     "slide_type": "slide"
    }
   },
   "source": [
    "### Data saving using ``*.npz`` files\n",
    "\n",
    "```python\n",
    "# Storing the data in *.npy files\n",
    "np.savez('npz_demo', x=x, np_x=np_x, np_y=np_y)\n",
    "\n",
    "# Opening the data in *.npy files\n",
    "new_npz_dict = np.load('npz_demo.npz')\n",
    "\n",
    "for key in new_npz_dict:\n",
    "    print(key, new_npz_dict[key], type(new_npz_dict[key]))\n",
    "```"
   ]
  },
  {
   "cell_type": "markdown",
   "metadata": {
    "slideshow": {
     "slide_type": "slide"
    }
   },
   "source": [
    "## NumPy Matrices\n",
    "\n",
    "Python's own Matrix data type. This is similar to MATLAB matrices.\n",
    "\n",
    "To make NumPy Matrices, use ``np.matrix(array)``\n",
    "\n",
    "Matrix Multiplication\n",
    "\n",
    "```python\n",
    "np.mat(a1) * np.mat(a2) # Converting arrays into matrices and multiplying.\n",
    "np.dot(mat1,mat2)       # Dot matrix multiplication\n",
    "\n",
    "# Arrays:\n",
    "# * and np.multiply(A1, A2) for element-wise multiplication\n",
    "# np.dot(A1, A2) for matrix multiplication\n",
    "\n",
    "# Matrices:\n",
    "# * and np.dot(M1, M2) for matrix multiplication\n",
    "# np.multiply(M1, M2) for element-wise multiplication\n",
    "```\n",
    "\n",
    "For arrays, ``*`` means element wise multiplication. Use ``np.dot()`` for matrix multiplication.\n",
    "\n",
    "For matrix, ``*`` means matrix multiplication."
   ]
  },
  {
   "cell_type": "markdown",
   "metadata": {
    "slideshow": {
     "slide_type": "slide"
    }
   },
   "source": [
    "## Demo - Linear Advection Equation\n",
    "\n",
    "Numerically evolve the Linear Advection Equation with some parameter values. Forward Time Backward Space scheme.\n",
    "\n",
    "#### Method\n",
    "\n",
    "$\\frac{\\partial u}{\\partial t} = -c\\frac{\\partial u}{\\partial x}$\n",
    "\n",
    "n = time step, i = grid point position\n",
    "\n",
    "$u_{n+1,i} = u_{n,i} - \\frac{c\\Delta t}{\\Delta x}(u_{n, i} - u_{n, i-1})$\n",
    "\n",
    "$u_{n+1, i} = \\left(1 - \\frac{c\\Delta t}{\\Delta x}\\right)u_{n, i} + \\left(\\frac{c\\Delta t}{\\Delta x}\\right)u_{n, i-1}$\n",
    "\n",
    "$u_{n+1, i} = F u_{n, i} + R u_{n, i-1}$"
   ]
  },
  {
   "cell_type": "markdown",
   "metadata": {
    "slideshow": {
     "slide_type": "slide"
    }
   },
   "source": [
    "```python\n",
    "'''\n",
    "This is a program for 1D linear advection equation\n",
    "\n",
    "Ut + c*Ux = 0\n",
    "\n",
    "Scheme used : Forward Time, Backward Space\n",
    "\n",
    "Works for small time steps and small grid size\n",
    "'''\n",
    "\n",
    "import numpy as np\n",
    "import matplotlib.pyplot as plt\n",
    "\n",
    "nx = 100    # Number of grid points\n",
    "nt = 101    # Number of time points\n",
    "L = 10      # Length of Domain\n",
    "A = 1.0     # Amplitude of wave\n",
    "c = 1.0     # wave velocity\n",
    "T = 10.0    # Total Seconds for time march\n",
    "\n",
    "# Grid points\n",
    "x1 = np.linspace(0, L, nx+1)\n",
    "x = x1[:-1]\n",
    "\n",
    "# Time steps\n",
    "t = np.linspace(0, T, nt)\n",
    "\n",
    "dx = x[1] - x[0]    # grid size\n",
    "dt = t[1] - t[0]    # time step in seconds\n",
    "\n",
    "# Computational Parameters\n",
    "R = c*dt/dx     # CFL number\n",
    "F = 1.0 - R     # multiplying factor\n",
    "\n",
    "# Initial condition for U\n",
    "uinit = A*np.sin(2.0*np.pi*x/L)\n",
    "\n",
    "uold = np.copy(uinit)\n",
    "unew = np.zeros(nx)\n",
    "\n",
    "def march(Unew, Uold, f1, f2):\n",
    "\n",
    "    # Calculation along the grid\n",
    "    unew[1:] = f1 * Uold[1:] + f2 * Uold[0:-1]\n",
    "    # Boundary Condition\n",
    "    unew[0] = uold[-1]\n",
    "\n",
    "    # Swapping the values for future use\n",
    "    Uold[:] = Unew\n",
    "\n",
    "    return Uold, Unew\n",
    "\n",
    "# To enable interactive plotting\n",
    "plt.ion()\n",
    "plt.figure()\n",
    "plt.plot(x, uinit, color='xkcd:black', label='Initial Velocity profile')\n",
    "plt.plot(x, uold , color='xkcd:salmon', label='Current Velocity profile')  # Contour plotting the values\n",
    "plt.xlabel('Length', fontsize=10)  # X axis label\n",
    "plt.ylabel('Velocity in $m/s$', fontsize=10)  # Y axis label\n",
    "plt.title('Wave advection in a 1D domain')\n",
    "string = 'Time $t$ = '+str(t[0])+' s, $U_{max}$ = '+str(np.amax(uold))+' $m/s$, $U_{min}$ = '+str(np.amin(uold))+'$m/s$'\n",
    "plt.suptitle(string)\n",
    "plt.legend()\n",
    "plt.grid(True)  # Enabling gridding\n",
    "plt.axis((-0.1, 10.1, -1.2, 1.2))  # Making axis rigid\n",
    "plt.pause(0.01)\n",
    "\n",
    "for i in range(0, nt):\n",
    "\n",
    "    # Calculation along the grid\n",
    "    # unew[1:] = F*uold[1:] + R*uold[0:-1]\n",
    "    # Boundary Condition\n",
    "    # unew[0] = uold[-1]\n",
    "\n",
    "    # Swapping the values for future use\n",
    "    # uold[:] = unew\n",
    "\n",
    "    uold, unew = march(Unew=unew, Uold=uold, f1=F, f2=R)\n",
    "\n",
    "    plt.clf()\n",
    "    plt.plot(x, uinit, color='xkcd:black', label='Initial Velocity profile')\n",
    "    plt.plot(x, uold , color='xkcd:salmon', label='Current Velocity profile')  # Contour plotting the values\n",
    "    plt.xlabel('Length', fontsize=10)  # X axis label\n",
    "    plt.ylabel('Velocity in $m/s$', fontsize=10)  # Y axis label\n",
    "    plt.title('Wave advection in a 1D domain')\n",
    "    string = 'Time $t$ = ' + str(t[i]) + ' s, $U_{max}$ = ' + str(np.amax(uold)) + ' $m/s$, $U_{min}$ = ' + str(\n",
    "        np.amin(uold)) + '$m/s$'\n",
    "    plt.suptitle(string)\n",
    "    plt.legend()\n",
    "    plt.grid(True)  # Enabling gridding\n",
    "    plt.axis((-0.1, 10.1, -1.2, 1.2))  # Making axis rigid\n",
    "    plt.pause(0.01)\n",
    "```"
   ]
  },
  {
   "cell_type": "markdown",
   "metadata": {
    "slideshow": {
     "slide_type": "slide"
    }
   },
   "source": [
    "# Playing with Matrices\n",
    "---\n",
    "\n",
    "We can do Solve a system of simultaneous equations by using the linear algebra solver in Numpy module.\n",
    "\n",
    "eg: \n",
    "\n",
    "$5x_1 + 6x_2 + 2x_3 + 3x_4 + 3x_5 = 19$\n",
    "\n",
    "$8x_1 + 9x_2 + 8x_3 + 8x_4 + -45x_5 = -12$\n",
    "\n",
    "$8x_1 + 2x_2 + 8x_3 + 6x_4 + 5x_5 = 29$\n",
    "\n",
    "$4x_1 + 1x_2 - 12x_3 + 1x_4 + 2x_5 = -4$\n",
    "\n",
    "$8x_1 + 2x_2 - 4x_3 + -5x_4 + 5x_5 = 6$\n",
    "\n",
    "After this, let's calculate the inverse, eigen values, eigen vectors, determinant etc.,"
   ]
  },
  {
   "cell_type": "code",
   "execution_count": 52,
   "metadata": {
    "ExecuteTime": {
     "end_time": "2020-02-08T00:15:46.903049Z",
     "start_time": "2020-02-08T00:15:46.711443Z"
    },
    "slideshow": {
     "slide_type": "slide"
    }
   },
   "outputs": [
    {
     "name": "stdout",
     "output_type": "stream",
     "text": [
      "The solution is:  [1. 1. 1. 1. 1.]\n",
      "True\n"
     ]
    }
   ],
   "source": [
    "import numpy as np\n",
    "\n",
    "A = np.array([[5., 6, 2, 3, 3],[8, 9, 8, 8, -45],[8, 2, 8, 6, 5],[4, 1, -12, 1, 2],[8, 2, -4, -5, 5]])\n",
    "# Input Matrix or Co-efficient Matrix\n",
    "b = np.array((19, -12, 29., -4, 6))\n",
    "# RHS matrix\n",
    "x = np.linalg.solve(A, b)\n",
    "# Solution\n",
    "# np.linalg.lstsq(a,b) if A is rectangular\n",
    "print(\"The solution is: \", x)\n",
    "\n",
    "print(np.allclose(np.dot(A, x), b)) # This does matrix multiplication\n",
    "# Checks whether the solution x when multiplied with A equals b"
   ]
  },
  {
   "cell_type": "code",
   "execution_count": 53,
   "metadata": {
    "ExecuteTime": {
     "end_time": "2020-02-08T00:15:47.053237Z",
     "start_time": "2020-02-08T00:15:46.906168Z"
    },
    "slideshow": {
     "slide_type": "slide"
    }
   },
   "outputs": [
    {
     "name": "stdout",
     "output_type": "stream",
     "text": [
      "[[-7.09840529e-02  1.24534645e-02  7.44985275e-02  2.23995666e-02\n",
      "   7.12132578e-02]\n",
      " [ 2.10812913e-01 -1.94476857e-04 -1.06573318e-01 -3.32555426e-02\n",
      "  -8.36250486e-03]\n",
      " [-1.06962271e-03  7.25815414e-04  2.27468467e-02 -7.23141357e-02\n",
      "   1.33529199e-02]\n",
      " [ 1.16686114e-03 -7.91798633e-04  6.60943491e-02  7.88881480e-02\n",
      "  -1.05475913e-01]\n",
      " [ 2.95604823e-02 -2.00588987e-02  7.72350947e-03 -1.50025004e-03\n",
      "  -5.38978719e-03]]\n",
      "[[-7.09840529e-02  1.24534645e-02  7.44985275e-02  2.23995666e-02\n",
      "   7.12132578e-02]\n",
      " [ 2.10812913e-01 -1.94476857e-04 -1.06573318e-01 -3.32555426e-02\n",
      "  -8.36250486e-03]\n",
      " [-1.06962271e-03  7.25815414e-04  2.27468467e-02 -7.23141357e-02\n",
      "   1.33529199e-02]\n",
      " [ 1.16686114e-03 -7.91798633e-04  6.60943491e-02  7.88881480e-02\n",
      "  -1.05475913e-01]\n",
      " [ 2.95604823e-02 -2.00588987e-02  7.72350947e-03 -1.50025004e-03\n",
      "  -5.38978719e-03]]\n"
     ]
    }
   ],
   "source": [
    "print(np.linalg.inv(A)) # Calculates the Inverse of A\n",
    "\n",
    "print(np.linalg.pinv(A)) # Calculates the pseudo inverse of A"
   ]
  },
  {
   "cell_type": "code",
   "execution_count": 54,
   "metadata": {
    "ExecuteTime": {
     "end_time": "2020-02-08T00:15:47.196063Z",
     "start_time": "2020-02-08T00:15:47.055476Z"
    },
    "slideshow": {
     "slide_type": "slide"
    }
   },
   "outputs": [
    {
     "name": "stdout",
     "output_type": "stream",
     "text": [
      "The Eigen Values are :  [-7.37102856 +0.j         13.73783413 +7.74629984j\n",
      " 13.73783413 -7.74629984j  3.94768015+11.89424798j\n",
      "  3.94768015-11.89424798j]\n",
      "The Eigen Vector 0 is :  [ 0.49201449+0.j -0.82873391+0.j -0.02542154+0.j -0.11542826+0.j\n",
      " -0.23906465+0.j]\n",
      "The Eigen Vector 1 is :  [0.24316923-0.32974889j 0.64230668+0.j         0.08457836-0.52048385j\n",
      " 0.19363778+0.23447995j 0.02506534-0.22003383j]\n",
      "The Eigen Vector 2 is :  [0.24316923+0.32974889j 0.64230668-0.j         0.08457836+0.52048385j\n",
      " 0.19363778-0.23447995j 0.02506534+0.22003383j]\n",
      "The Eigen Vector 3 is :  [ 0.14007002+0.18839566j -0.67298072+0.j          0.35217748-0.25513474j\n",
      "  0.25739106+0.41886759j  0.05771099+0.24048061j]\n",
      "The Eigen Vector 4 is :  [ 0.14007002-0.18839566j -0.67298072-0.j          0.35217748+0.25513474j\n",
      "  0.25739106-0.41886759j  0.05771099-0.24048061j]\n",
      "The Determinant is : -287951.99999999977\n"
     ]
    }
   ],
   "source": [
    "EigVal, EigVec = np.linalg.eig(A) # Gives the Eigen values and Eigen Vectors of A\n",
    "\n",
    "print(\"The Eigen Values are : \",EigVal)\n",
    "\n",
    "for i in range(0, 5):\n",
    "    print(\"The Eigen Vector {} is : \".format(i), EigVec[:,i])\n",
    "    \n",
    "print(\"The Determinant is :\", np.linalg.det(A))"
   ]
  },
  {
   "cell_type": "markdown",
   "metadata": {
    "slideshow": {
     "slide_type": "slide"
    }
   },
   "source": [
    "# Integration in Python\n",
    "\n",
    "This can be done by using numerical quadrature. You have several functions available for calculating integrals"
   ]
  },
  {
   "cell_type": "code",
   "execution_count": 55,
   "metadata": {
    "ExecuteTime": {
     "end_time": "2020-02-08T00:15:47.487834Z",
     "start_time": "2020-02-08T00:15:47.202066Z"
    },
    "slideshow": {
     "slide_type": "slide"
    }
   },
   "outputs": [
    {
     "name": "stdout",
     "output_type": "stream",
     "text": [
      "The integral is : 41.33333333333333\n",
      "The error is : 4.588921835117313e-13\n"
     ]
    },
    {
     "data": {
      "image/png": "[encoded data removed]",
      "text/plain": [
       "<Figure size 640x480 with 1 Axes>"
      ]
     },
     "metadata": {},
     "output_type": "display_data"
    }
   ],
   "source": [
    "import numpy as np\n",
    "from scipy.integrate.quadpack import quad\n",
    "import matplotlib.pyplot as plt\n",
    "import matplotlib as mpl\n",
    "\n",
    "mpl.style.use('default')\n",
    "\n",
    "b = 5.0\n",
    "\n",
    "# Function which is to be integrated\n",
    "def func(x):\n",
    "    return np.array(x**2) \n",
    "\n",
    "x = np.linspace(-10, 10, 201)\n",
    "integral, err = quad(func, 1, 5)\n",
    "# Numerical quadrature that calculates the integral and error using fortran's quadpack library.\n",
    "\n",
    "print(\"The integral is :\", integral)\n",
    "print(\"The error is :\", err)\n",
    "\n",
    "section = np.linspace(-5, 5, 20)\n",
    "\n",
    "plt.plot(x, func(x), label='Function', color='b')\n",
    "plt.fill_between(section, func(section), facecolor='red')\n",
    "plt.grid()\n",
    "plt.legend()\n",
    "plt.title('Area under the curve')\n",
    "plt.show()"
   ]
  },
  {
   "cell_type": "markdown",
   "metadata": {
    "slideshow": {
     "slide_type": "slide"
    }
   },
   "source": [
    "## Another Example!\n",
    "---\n",
    "\n",
    "$E_{\\lambda}(\\lambda, T) = \\frac{2\\pi\\ hc^2}{\\lambda^5}\\frac{1.0}{\\exp{\\left[\\frac{hc}{\\lambda k_BT}\\right]}-1} Wm^{-2}K^{-1}\\mu m^{-1}$\n",
    "\n",
    "* Plot the black body energy curves for the Sun ($T_{surf} = 5770.0\\ K$)\n",
    "* Calculate the energy flux for the entire visible region and show this as a fraction of the total energy flux\n",
    "* Compare this black body radiation curve with curves for temperature 4000.0, 5000.0, 6000.0 K."
   ]
  },
  {
   "cell_type": "code",
   "execution_count": 56,
   "metadata": {
    "ExecuteTime": {
     "end_time": "2020-02-08T00:15:48.471829Z",
     "start_time": "2020-02-08T00:15:47.489754Z"
    },
    "slideshow": {
     "slide_type": "slide"
    }
   },
   "outputs": [
    {
     "name": "stdout",
     "output_type": "stream",
     "text": [
      "The total Energy flux is : 62851322.5873358\n",
      "The Energy flux in the band is : 29217830.60463064\n",
      "The Energy flux Fraction is: 0.46487216818756133\n",
      "The error is : 3.24383082668585e-07\n"
     ]
    },
    {
     "name": "stderr",
     "output_type": "stream",
     "text": [
      "/home/arun/anaconda3/lib/python3.7/site-packages/ipykernel_launcher.py:19: RuntimeWarning: divide by zero encountered in true_divide\n",
      "/home/arun/anaconda3/lib/python3.7/site-packages/ipykernel_launcher.py:19: RuntimeWarning: invalid value encountered in true_divide\n",
      "/home/arun/anaconda3/lib/python3.7/site-packages/matplotlib/cbook/deprecation.py:107: MatplotlibDeprecationWarning: Passing one of 'on', 'true', 'off', 'false' as a boolean is deprecated; use an actual boolean (True/False) instead.\n",
      "  warnings.warn(message, mplDeprecation, stacklevel=1)\n"
     ]
    },
    {
     "data": {
      "image/png": "[encoded data removed]",
      "text/plain": [
       "<Figure size 640x480 with 1 Axes>"
      ]
     },
     "metadata": {},
     "output_type": "display_data"
    }
   ],
   "source": [
    "from scipy.constants import codata\n",
    "import numpy as np\n",
    "from scipy.integrate.quadpack import quad\n",
    "import matplotlib.pyplot as plt\n",
    "import matplotlib as mpl\n",
    "\n",
    "mpl.style.use('default')\n",
    "\n",
    "# get physical from module:\n",
    "D = codata.physical_constants\n",
    "\n",
    "s = D['Stefan-Boltzmann constant'][0]\n",
    "\n",
    "# Put the variable that you want to integrate first!\n",
    "def spectra(l,T):\n",
    "    h = D['Planck constant'][0]\n",
    "    k = D['Boltzmann constant'][0]\n",
    "    c = D['speed of light in vacuum'][0]\n",
    "    func = ((2.0*h*np.pi*c**2)/(l**5))/(np.exp(h*c/(l*k*T)) - 1.0)\n",
    "    return func\n",
    "\n",
    "T1 = 5770.0\n",
    "T2 = 6000.0\n",
    "T3 = 5000.0\n",
    "T4 = 4000.0\n",
    "\n",
    "int1,err1 = quad(spectra, 0.38e-6, 0.78e-6, args=(T1))\n",
    "\n",
    "E1 = s*T1**4\n",
    "\n",
    "l = np.linspace(0, 5e-6, 201)\n",
    "\n",
    "s1 = spectra(l, T1)\n",
    "s2 = spectra(l, T2)\n",
    "s3 = spectra(l, T3)\n",
    "s4 = spectra(l, T4)\n",
    "\n",
    "print(\"The total Energy flux is :\", E1)\n",
    "print(\"The Energy flux in the band is :\", int1)\n",
    "print(\"The Energy flux Fraction is:\", int1/E1)\n",
    "print(\"The error is :\", err1)\n",
    "\n",
    "section = np.linspace(0.38e-6, 0.78e-6, 20)\n",
    "\n",
    "plt.plot(l*1e6, s1, 'k', label='T = 5770 K')\n",
    "plt.plot(l*1e6, s2, 'b', label='T = 6000 K')\n",
    "plt.plot(l*1e6, s3, 'g', label='T = 5000 K')\n",
    "plt.plot(l*1e6, s4, 'y', label='T = 4000 K')\n",
    "plt.fill_between(section*1e6, spectra(section, T1), facecolor='red')\n",
    "plt.legend()\n",
    "plt.grid('on')\n",
    "plt.axis([0.0, 5.0, 0.0e13, 10.5e13])\n",
    "plt.xticks(np.linspace(0.0, 5.0, 11))\n",
    "plt.yticks(np.linspace(0.0e13, 10.5e13, 20))\n",
    "plt.xlabel('Wavelength in $\\mu m$')\n",
    "plt.ylabel('Irradiance in $Wm^{-2}\\mu m^{-1}$')\n",
    "plt.title(\"Integral of Planck's Spectral Emission Curves\")\n",
    "plt.savefig('images/Spectra.png', format='png', dpi=600)\n",
    "plt.show()"
   ]
  },
  {
   "cell_type": "markdown",
   "metadata": {
    "slideshow": {
     "slide_type": "slide"
    }
   },
   "source": [
    "### Other functions in ``scipy.integrate``\n",
    "\n",
    "[Refer here](https://docs.scipy.org/doc/scipy/reference/generated/scipy.integrate.quad.html#scipy.integrate.quad)"
   ]
  },
  {
   "cell_type": "markdown",
   "metadata": {
    "slideshow": {
     "slide_type": "slide"
    }
   },
   "source": [
    "# Differentiation in Python\n",
    "\n",
    "This is rather straight forward"
   ]
  },
  {
   "cell_type": "code",
   "execution_count": 57,
   "metadata": {
    "ExecuteTime": {
     "end_time": "2020-02-08T00:15:48.996051Z",
     "start_time": "2020-02-08T00:15:48.473347Z"
    },
    "slideshow": {
     "slide_type": "fragment"
    }
   },
   "outputs": [
    {
     "data": {
      "image/png": "[encoded data removed]",
      "text/plain": [
       "<Figure size 640x480 with 1 Axes>"
      ]
     },
     "metadata": {},
     "output_type": "display_data"
    }
   ],
   "source": [
    "x = np.linspace(0, 2.0*np.pi, 100)\n",
    "y = np.sin(2*x)\n",
    "y1 = np.gradient(y, x[1]-x[0]) # Calculates the Differential\n",
    "y2 = np.gradient(y1, x[1]-x[0])\n",
    "\n",
    "plt.plot(x, y, label='sin(2*x)')\n",
    "plt.plot(x, y1, label='2cos(2x)')\n",
    "plt.plot(x, y2, label='-4sin(2x)')\n",
    "plt.legend()\n",
    "plt.grid()\n",
    "plt.savefig('images/Differentiation.png', format='png', dpi=400)"
   ]
  },
  {
   "cell_type": "markdown",
   "metadata": {
    "slideshow": {
     "slide_type": "slide"
    }
   },
   "source": [
    "# Symbolic Operations in Python\n",
    "\n",
    "This is done using sympy module. (Symbolic Python Module)"
   ]
  },
  {
   "cell_type": "markdown",
   "metadata": {
    "slideshow": {
     "slide_type": "fragment"
    }
   },
   "source": [
    "You can do:\n",
    "\n",
    "* Symbolic Integration\n",
    "* Symbolic Differentiation\n",
    "* Symbolic Transformations\n",
    "* Solve functions and equations"
   ]
  },
  {
   "cell_type": "code",
   "execution_count": 58,
   "metadata": {
    "ExecuteTime": {
     "end_time": "2020-02-08T00:15:49.015119Z",
     "start_time": "2020-02-08T00:15:48.998680Z"
    },
    "slideshow": {
     "slide_type": "slide"
    }
   },
   "outputs": [
    {
     "data": {
      "text/latex": [
       "$\\displaystyle \\frac{x^{3}}{3} + x^{2} + x$"
      ],
      "text/plain": [
       "x**3/3 + x**2 + x"
      ]
     },
     "execution_count": 58,
     "metadata": {},
     "output_type": "execute_result"
    }
   ],
   "source": [
    "import sympy as sym\n",
    "\n",
    "x = sym.Symbol('x')\n",
    "sym.integrate(x**2 + 2*x + 1)"
   ]
  },
  {
   "cell_type": "code",
   "execution_count": 59,
   "metadata": {
    "ExecuteTime": {
     "end_time": "2020-02-08T00:15:49.172875Z",
     "start_time": "2020-02-08T00:15:49.017099Z"
    },
    "slideshow": {
     "slide_type": "fragment"
    }
   },
   "outputs": [
    {
     "data": {
      "text/latex": [
       "$\\displaystyle \\frac{x^{3}}{3} - \\cos{\\left(x \\right)}$"
      ],
      "text/plain": [
       "x**3/3 - cos(x)"
      ]
     },
     "execution_count": 59,
     "metadata": {},
     "output_type": "execute_result"
    }
   ],
   "source": [
    "x = sym.Symbol('x')\n",
    "sym.integrate(x**2 + sym.sin(x))"
   ]
  },
  {
   "cell_type": "code",
   "execution_count": 60,
   "metadata": {
    "ExecuteTime": {
     "end_time": "2020-02-08T00:15:49.337903Z",
     "start_time": "2020-02-08T00:15:49.174509Z"
    },
    "slideshow": {
     "slide_type": "fragment"
    }
   },
   "outputs": [
    {
     "data": {
      "text/latex": [
       "$\\displaystyle \\begin{cases} - \\frac{T \\cos{\\left(\\frac{2 \\pi l}{T} \\right)}}{2 \\pi} & \\text{for}\\: \\frac{2 \\pi}{T} \\neq 0 \\\\0 & \\text{otherwise} \\end{cases}$"
      ],
      "text/plain": [
       "Piecewise((-T*cos(2*pi*l/T)/(2*pi), Ne(2*pi/T, 0)), (0, True))"
      ]
     },
     "execution_count": 60,
     "metadata": {},
     "output_type": "execute_result"
    }
   ],
   "source": [
    "l = sym.Symbol('l')\n",
    "T = sym.Symbol('T')\n",
    "sym.integrate(sym.sin(2*sym.pi*l/T), l)"
   ]
  },
  {
   "cell_type": "code",
   "execution_count": 61,
   "metadata": {
    "ExecuteTime": {
     "end_time": "2020-02-08T00:15:49.455458Z",
     "start_time": "2020-02-08T00:15:49.339546Z"
    },
    "slideshow": {
     "slide_type": "slide"
    }
   },
   "outputs": [
    {
     "data": {
      "text/latex": [
       "$\\displaystyle 2 x + \\cos{\\left(x \\right)}$"
      ],
      "text/plain": [
       "2*x + cos(x)"
      ]
     },
     "execution_count": 61,
     "metadata": {},
     "output_type": "execute_result"
    }
   ],
   "source": [
    "x = sym.Symbol('x')\n",
    "sym.diff(x**2 + sym.sin(x))"
   ]
  },
  {
   "cell_type": "code",
   "execution_count": 62,
   "metadata": {
    "ExecuteTime": {
     "end_time": "2020-02-08T00:15:49.542637Z",
     "start_time": "2020-02-08T00:15:49.457251Z"
    },
    "slideshow": {
     "slide_type": "fragment"
    }
   },
   "outputs": [
    {
     "data": {
      "text/latex": [
       "$\\displaystyle \\frac{2 \\pi \\cos{\\left(\\frac{2 \\pi l}{T} \\right)}}{T}$"
      ],
      "text/plain": [
       "2*pi*cos(2*pi*l/T)/T"
      ]
     },
     "execution_count": 62,
     "metadata": {},
     "output_type": "execute_result"
    }
   ],
   "source": [
    "l = sym.Symbol('l')\n",
    "T = sym.Symbol('T')\n",
    "sym.diff(sym.sin(2*sym.pi*l/T), l)"
   ]
  },
  {
   "cell_type": "markdown",
   "metadata": {
    "slideshow": {
     "slide_type": "slide"
    }
   },
   "source": [
    "## Let's transition from symbolic computation to numerical computation"
   ]
  },
  {
   "cell_type": "code",
   "execution_count": 63,
   "metadata": {
    "ExecuteTime": {
     "end_time": "2020-02-08T00:15:49.683213Z",
     "start_time": "2020-02-08T00:15:49.544182Z"
    },
    "slideshow": {
     "slide_type": "fragment"
    }
   },
   "outputs": [
    {
     "data": {
      "text/latex": [
       "$\\displaystyle 4 x$"
      ],
      "text/plain": [
       "4*x"
      ]
     },
     "execution_count": 63,
     "metadata": {},
     "output_type": "execute_result"
    }
   ],
   "source": [
    "x = sym.Symbol('x')\n",
    "f = 2*x**2+3\n",
    "f_prime = f.diff(x)\n",
    "\n",
    "f_prime"
   ]
  },
  {
   "cell_type": "code",
   "execution_count": 64,
   "metadata": {
    "ExecuteTime": {
     "end_time": "2020-02-08T00:15:49.829267Z",
     "start_time": "2020-02-08T00:15:49.685021Z"
    },
    "slideshow": {
     "slide_type": "fragment"
    }
   },
   "outputs": [
    {
     "name": "stdout",
     "output_type": "stream",
     "text": [
      "f(3) = 21, f'(3) = 12\n"
     ]
    }
   ],
   "source": [
    "### Let's make it numerical\n",
    "\n",
    "fx = sym.lambdify(x, f)\n",
    "fx_dash = sym.lambdify(x, f_prime)\n",
    "\n",
    "print(f\"f(3) = {fx(3)}, f'(3) = {fx_dash(3)}\")"
   ]
  },
  {
   "cell_type": "code",
   "execution_count": 65,
   "metadata": {
    "ExecuteTime": {
     "end_time": "2020-02-08T00:15:50.105100Z",
     "start_time": "2020-02-08T00:15:49.831219Z"
    },
    "slideshow": {
     "slide_type": "slide"
    }
   },
   "outputs": [
    {
     "data": {
      "text/plain": [
       "((s**2 + 2*s + 2)/s**3, 0, True)"
      ]
     },
     "execution_count": 65,
     "metadata": {},
     "output_type": "execute_result"
    }
   ],
   "source": [
    "from sympy.integrals import laplace_transform as lt\n",
    "from sympy.abc import t, s # Standard symbols\n",
    "lt(t**2 + 2*t + 1, t, s)"
   ]
  },
  {
   "cell_type": "code",
   "execution_count": 66,
   "metadata": {
    "ExecuteTime": {
     "end_time": "2020-02-08T00:15:50.127712Z",
     "start_time": "2020-02-08T00:15:50.107964Z"
    },
    "slideshow": {
     "slide_type": "fragment"
    }
   },
   "outputs": [
    {
     "data": {
      "text/latex": [
       "$\\displaystyle x^{3} + 3 x^{2} y + 3 x y^{2} + y^{3}$"
      ],
      "text/plain": [
       "x**3 + 3*x**2*y + 3*x*y**2 + y**3"
      ]
     },
     "execution_count": 66,
     "metadata": {},
     "output_type": "execute_result"
    }
   ],
   "source": [
    "y = sym.Symbol('y')\n",
    "sym.expand((x+y)**3)"
   ]
  },
  {
   "cell_type": "code",
   "execution_count": 67,
   "metadata": {
    "ExecuteTime": {
     "end_time": "2020-02-08T00:15:50.275785Z",
     "start_time": "2020-02-08T00:15:50.129325Z"
    },
    "slideshow": {
     "slide_type": "slide"
    }
   },
   "outputs": [
    {
     "data": {
      "text/plain": [
       "[-1, 1, -I, I]"
      ]
     },
     "execution_count": 67,
     "metadata": {},
     "output_type": "execute_result"
    }
   ],
   "source": [
    "sym.solve(x**4 - 1, x)"
   ]
  },
  {
   "cell_type": "code",
   "execution_count": 68,
   "metadata": {
    "ExecuteTime": {
     "end_time": "2020-02-08T00:15:50.423117Z",
     "start_time": "2020-02-08T00:15:50.278668Z"
    },
    "slideshow": {
     "slide_type": "fragment"
    }
   },
   "outputs": [
    {
     "data": {
      "text/latex": [
       "$\\displaystyle \\left(x^{2} - x - 1\\right) \\left(x^{2} + x - 1\\right)$"
      ],
      "text/plain": [
       "(x**2 - x - 1)*(x**2 + x - 1)"
      ]
     },
     "execution_count": 68,
     "metadata": {},
     "output_type": "execute_result"
    }
   ],
   "source": [
    "f = x**4 - 3*x**2 + 1\n",
    "sym.factor(f)"
   ]
  },
  {
   "cell_type": "markdown",
   "metadata": {
    "slideshow": {
     "slide_type": "slide"
    }
   },
   "source": [
    "## Solving an ODE:\n",
    "### Mass Spring Damper\n",
    "\n",
    "Scipy library has quite a lot of functions to do it.\n",
    "\n",
    "For Example, Let's see how a mass-spring-damper system is solved!\n",
    "\n",
    "$ m\\ddot{x} + c\\dot{x} + kx = F_0\\sin{\\omega t}$\n",
    "\n",
    "$x(t = 0) = 0$ and $\\dot{x}(t = 0) = 0$\n",
    "\n",
    "$ \\ddot{x} = \\left[\\frac{F_0\\sin{\\omega t}}{m} - \\frac{c\\dot{x}}{m} - \\frac{kx}{m} \\right]$\n",
    "\n",
    "Let \n",
    "\n",
    "$\\dot{x} = x_1$\n",
    "\n",
    "$\\dot{x_1} = \\ddot{x} = \\left[\\frac{F_0\\sin{\\omega t}}{m} - \\frac{c\\dot{x_1}}{m} - \\frac{kx}{m} \\right]$"
   ]
  },
  {
   "cell_type": "markdown",
   "metadata": {
    "slideshow": {
     "slide_type": "fragment"
    }
   },
   "source": [
    "We need:\n",
    "\n",
    "    * A function that represents the equation and derivatives\n",
    "    * odeint function from scipy\n",
    "    * Initial conditions"
   ]
  },
  {
   "cell_type": "markdown",
   "metadata": {
    "ExecuteTime": {
     "end_time": "2020-02-07T23:48:46.875039Z",
     "start_time": "2020-02-07T23:48:46.862878Z"
    },
    "slideshow": {
     "slide_type": "slide"
    }
   },
   "source": [
    "```python\n",
    "'''\n",
    "Numerical Integration Library\n",
    "\n",
    "Contains functions for numerical integration\n",
    "'''\n",
    "\n",
    "import numpy as np\n",
    "\n",
    "def rk4(inp_func, init_conditions, t, args):\n",
    "\n",
    "    nt = len(t)\n",
    "    n_outs = len(init_conditions)\n",
    "\n",
    "    # print(\"init_conditions = \", init_conditions)\n",
    "\n",
    "    states = np.zeros((nt, n_outs))\n",
    "    k1 = np.zeros((nt, n_outs))\n",
    "    k2 = np.zeros((nt, n_outs))\n",
    "    k3 = np.zeros((nt, n_outs))\n",
    "    k4 = np.zeros((nt, n_outs))\n",
    "\n",
    "    dt = t[1] - t[0]\n",
    "\n",
    "    states[0,:] = init_conditions\n",
    "\n",
    "    for i in range(1, nt):\n",
    "        var_ins = states[i-1,:]\n",
    "        k1[i-1,:] = inp_func(var_ins, t[i], *args)\n",
    "        k2[i-1,:] = inp_func(var_ins+k1[i-1,:]*dt*0.5, t[i], *args)\n",
    "        k3[i-1,:] = inp_func(var_ins+k2[i-1,:]*dt*0.5, t[i], *args)\n",
    "        k4[i-1,:] = inp_func(var_ins+k3[i-1,:]*dt, t[i], *args)\n",
    "\n",
    "        states[i,:] = var_ins + (k1[i-1,:] + 2.0*k2[i-1,:] + 2.0*k3[i-1,:] + k4[i-1,:])*dt/6.0\n",
    "        # print(i, states[i,:])\n",
    "\n",
    "    return states\n",
    "```"
   ]
  },
  {
   "cell_type": "markdown",
   "metadata": {
    "slideshow": {
     "slide_type": "slide"
    }
   },
   "source": [
    "```python\n",
    "\n",
    "import numpy as np\n",
    "from scipy.integrate import odeint\n",
    "import matplotlib.pyplot as plt\n",
    "from NumIntLib import rk4\n",
    "\n",
    "def dampfunc(x, t, F0, omg, m, c, k):\n",
    "    x0 = x[0] # Displacement\n",
    "    x1 = x[1] # Velocity\n",
    "    x2 = F0*np.sin(omg*t)/m - c*x1/m - k*x0/m # Acceleration\n",
    "    return x1, x2\n",
    "\n",
    "F0 = 50.0\n",
    "omg = 1.0\n",
    "m = 2.0\n",
    "c = 1.0\n",
    "k = 20\n",
    "\n",
    "params = (F0, omg, m, c, k)\n",
    "\n",
    "init = [0.0, 0.0] # Initial conditions\n",
    "t = np.linspace(0.0, 10.0, 101)\n",
    "\n",
    "x = odeint(dampfunc, init, t, args=params) # This is the vital part!\n",
    "# x = rk.rk4(dampfunc, init, t, args=params) # This is the vital part!\n",
    "\n",
    "acc = F0*np.sin(omg*t)/m - c*x[:,1]/m - k*x[:,0]/m\n",
    "\n",
    "plt.plot(t, x[:,0], 'b', label='$x (m)$')\n",
    "plt.plot(t, x[:,1], 'r', label='$\\dot{x} (m/s)$')\n",
    "plt.plot(t, acc, 'g', label='$\\ddot{x} (m/s^2)$')\n",
    "plt.axis([0, 10, -10, 10])\n",
    "plt.xticks(np.linspace(0,10,11))\n",
    "plt.yticks(np.linspace(-10,10,11))\n",
    "plt.grid()\n",
    "plt.legend()\n",
    "plt.title('Solution to a Mass Spring Damper System')\n",
    "plt.suptitle('Session 3, Demos')\n",
    "plt.xlabel('Time in s')\n",
    "plt.ylabel('Magnitudes')\n",
    "plt.savefig('images/Mass_Spring_Damper.jpg', format='jpg', dpi=200)\n",
    "\n",
    "```"
   ]
  },
  {
   "cell_type": "markdown",
   "metadata": {
    "slideshow": {
     "slide_type": "slide"
    }
   },
   "source": [
    "### Solution to Lorenz Attractor\n",
    "\n",
    "$ \\dot{x} = \\sigma(y-x)$\n",
    "\n",
    "$ \\dot{y} = (\\rho - z)x - y$\n",
    "\n",
    "$ \\dot{z} = xy - \\beta z$\n",
    "\n",
    "where:\n",
    "$\\sigma = 10$,\n",
    "$\\rho = 28$,\n",
    "$\\beta = \\frac{8}{3}$\n",
    "\n",
    "Initial Conditions: $x(t = 0) = y(t = 0) = z(t = 0) = 1.0$"
   ]
  },
  {
   "cell_type": "markdown",
   "metadata": {
    "slideshow": {
     "slide_type": "slide"
    }
   },
   "source": [
    "```python\n",
    "import numpy as np\n",
    "from scipy.integrate import odeint\n",
    "import matplotlib.pyplot as plt\n",
    "from NumIntLib import rk4\n",
    "\n",
    "def lorenz(st, t, s, p, b):\n",
    "    \n",
    "    x0 = st[0] # x displacement\n",
    "    y0 = st[1] # y displacement\n",
    "    z0 = st[2] # z displacement\n",
    "    \n",
    "    xd = s*(y0-x0)\n",
    "    yd = (p-z0)*x0 - y0\n",
    "    zd = x0*y0 - b*z0\n",
    "    \n",
    "    return xd, yd, zd\n",
    "\n",
    "s = 10.0\n",
    "p = 28.0\n",
    "b = 8.0/3.0\n",
    "\n",
    "init = [1.0, 1.0, 1.0]\n",
    "params = (s, p, b)\n",
    "t = np.arange(0.0, 60.0, 0.01)\n",
    "\n",
    "# st = odeint(lorentz, init, t, args=params)\n",
    "st = rk.rk4(lorenz, init, t, args=params)\n",
    "\n",
    "x = st[:,0]\n",
    "y = st[:,1]\n",
    "z = st[:,2]\n",
    "\n",
    "from mpl_toolkits.mplot3d import Axes3D\n",
    "fig = plt.figure()\n",
    "ax = fig.gca(projection='3d')\n",
    "ax.plot(x, y, z, 'r', label='Lorenz Butterfly')\n",
    "ax.set_xlabel('x')\n",
    "ax.set_ylabel('y')\n",
    "ax.set_zlabel('z')\n",
    "ax.legend()\n",
    "plt.savefig('Lorenz_Butterfly.png', format='png', dpi=400)\n",
    "```"
   ]
  },
  {
   "cell_type": "markdown",
   "metadata": {
    "slideshow": {
     "slide_type": "slide"
    }
   },
   "source": [
    "# FFT and IFFT\n",
    "\n",
    "This is possible using numpy and scipy modules\n",
    "\n",
    "* Use fourier filtering to remove certain frequencies\n",
    "* Show the power spectra of the original signal\n",
    "* Also, perform differentiation of the original signal in frequency domain"
   ]
  },
  {
   "cell_type": "markdown",
   "metadata": {
    "slideshow": {
     "slide_type": "slide"
    }
   },
   "source": [
    "```python\n",
    "# Program to try and work out the power spectrum\n",
    "\n",
    "import numpy as np\n",
    "import matplotlib.pyplot as plt\n",
    "from scipy.fft import fft, fftfreq, ifft\n",
    "\n",
    "n = 1024\n",
    "Lx = 100\n",
    "omg = 2.0*np.pi/Lx\n",
    "\n",
    "x = np.linspace(0, Lx, n)\n",
    "y1 = 1.0*np.cos( 5.0*omg*x)\n",
    "y2 = 1.0*np.sin(10.0*omg*x)\n",
    "y3 = 0.5*np.sin(20.0*omg*x)\n",
    "y = y1 + y2 + y3\n",
    "act = y1 + y2\n",
    "yd_true = (omg)*( -5.0*1.0*np.sin(5.0*omg*x) + 10.0*1.0*np.cos(10.0*omg*x) + 20.0*0.5*np.cos(20.0*omg*x))\n",
    "\n",
    "mean_y = np.mean(y)\n",
    "std_y = np.std(y)\n",
    "var_y = std_y**2.0\n",
    "\n",
    "print(mean_y, std_y, var_y)\n",
    "\n",
    "# Creates all the necessary frequencies\n",
    "freqs = fftfreq(n)\n",
    "\n",
    "# Arranges the frequencies in ascending order\n",
    "idx = np.argsort(freqs)\n",
    "\n",
    "# wave numbers\n",
    "nwaves = freqs*n\n",
    "nwaves_2pi = omg*nwaves\n",
    "\n",
    "# mask array to be used for power spectra.\n",
    "# ignoring half the values, as they are complex conjucates of the other\n",
    "mask = freqs > 0\n",
    "\n",
    "# fft values\n",
    "fft_vals = fft(y)\n",
    "\n",
    "# Fourier filtering\n",
    "fft_new = np.copy(fft_vals)\n",
    "fft_new[np.abs(nwaves)==20] = 0.0\n",
    "\n",
    "# inverse fourier transform to reconstruct the filtered data\n",
    "filt_data = np.real(ifft(fft_new))\n",
    "\n",
    "# derivative of y in frequency spectrum\n",
    "yd_fft = 1.0j*nwaves_2pi*fft_vals\n",
    "yd_recon = np.real(ifft(yd_fft))\n",
    "\n",
    "# this is the power spectra\n",
    "ps = 2.0*np.abs(fft_vals/n)**2.0\n",
    "\n",
    "# power by variance\n",
    "pow_var = ps/var_y*100.0\n",
    "\n",
    "# freq.power spectra - for variance preserving form\n",
    "fps = ps*freqs\n",
    "\n",
    "#print(fft_vals)\n",
    "#print(np.abs(fft_vals*2.0/n))\n",
    "print(np.sum(ps[mask]))\n",
    "\n",
    "plt.figure(1)\n",
    "plt.title('Original Signal')\n",
    "plt.plot(x, y, color='xkcd:salmon', label='original')\n",
    "plt.legend()\n",
    "\n",
    "plt.figure(2)\n",
    "plt.plot(nwaves[mask], ps[mask], label='wavenumber vs spectra')\n",
    "plt.title('Power Spectrum Example - wavenumber vs spectra')\n",
    "plt.legend()\n",
    "\n",
    "plt.figure(3)\n",
    "plt.title('Data Filtering example')\n",
    "plt.plot(x, act, color='black', label='theoretical')\n",
    "plt.plot(x, filt_data, color='cyan', label='via fourier filtering')\n",
    "plt.legend()\n",
    "\n",
    "plt.figure(4)\n",
    "plt.title('Derivative of the signal')\n",
    "plt.plot(x, yd_true, color='black', label='theoretical')\n",
    "plt.plot(x, yd_recon, color='cyan', label='via spectral method')\n",
    "plt.legend()\n",
    "plt.show()\n",
    "```"
   ]
  },
  {
   "cell_type": "code",
   "execution_count": null,
   "metadata": {},
   "outputs": [],
   "source": []
  }
 ],
 "metadata": {
  "celltoolbar": "Slideshow",
  "kernelspec": {
   "display_name": "Python 3",
   "language": "python",
   "name": "python3"
  },
  "language_info": {
   "codemirror_mode": {
    "name": "ipython",
    "version": 3
   },
   "file_extension": ".py",
   "mimetype": "text/x-python",
   "name": "python",
   "nbconvert_exporter": "python",
   "pygments_lexer": "ipython3",
   "version": "3.7.3"
  },
  "toc": {
   "base_numbering": 1,
   "nav_menu": {},
   "number_sections": true,
   "sideBar": true,
   "skip_h1_title": false,
   "title_cell": "Table of Contents",
   "title_sidebar": "Contents",
   "toc_cell": false,
   "toc_position": {},
   "toc_section_display": true,
   "toc_window_display": false
  },
  "varInspector": {
   "cols": {
    "lenName": 16,
    "lenType": 16,
    "lenVar": 40
   },
   "kernels_config": {
    "python": {
     "delete_cmd_postfix": "",
     "delete_cmd_prefix": "del ",
     "library": "var_list.py",
     "varRefreshCmd": "print(var_dic_list())"
    },
    "r": {
     "delete_cmd_postfix": ") ",
     "delete_cmd_prefix": "rm(",
     "library": "var_list.r",
     "varRefreshCmd": "cat(var_dic_list()) "
    }
   },
   "types_to_exclude": [
    "module",
    "function",
    "builtin_function_or_method",
    "instance",
    "_Feature"
   ],
   "window_display": false
  }
 },
 "nbformat": 4,
 "nbformat_minor": 2
}
